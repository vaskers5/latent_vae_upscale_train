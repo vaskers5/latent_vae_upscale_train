{
 "cells": [
  {
   "cell_type": "markdown",
   "id": "1f7c3c35",
   "metadata": {},
   "source": [
    "# Build a 10K-image test dataset\n",
    "This notebook samples a fixed number of images from the full dataset at `./workspace/d23/d23/` and copies them into a dedicated test split folder."
   ]
  },
  {
   "cell_type": "markdown",
   "id": "901f7a36",
   "metadata": {},
   "source": [
    "## Workflow\n",
    "1. Configure source and destination paths plus sampling options.\n",
    "2. Index all image files recursively under the source root.\n",
    "3. Randomly sample 10,000 unique paths (reproducible with a fixed seed).\n",
    "4. Copy the sampled files into a new `test_dataset` folder while preserving their subdirectory structure.\n",
    "5. Validate the copy by recounting files in the test split."
   ]
  },
  {
   "cell_type": "code",
   "execution_count": 1,
   "id": "c8e6d753",
   "metadata": {},
   "outputs": [
    {
     "name": "stdout",
     "output_type": "stream",
     "text": [
      "Dataset root: /home/kazanplova/projects/latent_vae_upscale_train/workspace/d23/d23\n",
      "Test split destination: /home/kazanplova/projects/latent_vae_upscale_train/workspace/d23/test_dataset\n",
      "Target sample size: 10000\n"
     ]
    }
   ],
   "source": [
    "from pathlib import Path\n",
    "import random\n",
    "import shutil\n",
    "import os\n",
    "\n",
    "# --- Configuration ---\n",
    "dataset_root = Path(\"./workspace/d23/d23\")  # full dataset\n",
    "test_root = Path(\"./workspace/d23/test_dataset\")  # output folder for the sampled test split\n",
    "sample_count = 10_000\n",
    "random_seed = 1337\n",
    "overwrite_existing = False  # set to True to delete and recreate the test folder if it already exists\n",
    "\n",
    "image_extensions = {\".png\", \".jpg\", \".jpeg\", \".bmp\", \".webp\", \".gif\"}\n",
    "\n",
    "assert dataset_root.exists() and dataset_root.is_dir(), f\"Dataset root {dataset_root} is missing\"\n",
    "\n",
    "if test_root.exists():\n",
    "    if overwrite_existing:\n",
    "        shutil.rmtree(test_root)\n",
    "    else:\n",
    "        raise FileExistsError(f\"Destination {test_root} already exists. Set overwrite_existing=True to rebuild it.\")\n",
    "\n",
    "test_root.mkdir(parents=True, exist_ok=True)\n",
    "print(f\"Dataset root: {dataset_root.resolve()}\")\n",
    "print(f\"Test split destination: {test_root.resolve()}\")\n",
    "print(f\"Target sample size: {sample_count}\")"
   ]
  },
  {
   "cell_type": "code",
   "execution_count": 2,
   "id": "f8e746f4",
   "metadata": {},
   "outputs": [
    {
     "name": "stdout",
     "output_type": "stream",
     "text": [
      "Total images discovered: 154598\n"
     ]
    }
   ],
   "source": [
    "# Index all image files under the dataset root\n",
    "all_images = []\n",
    "for path, _, files in os.walk(dataset_root):\n",
    "    for name in files:\n",
    "        ext = Path(name).suffix.lower()\n",
    "        if ext in image_extensions:\n",
    "            all_images.append(Path(path) / name)\n",
    "\n",
    "total_images = len(all_images)\n",
    "print(f\"Total images discovered: {total_images}\")\n",
    "if total_images < sample_count:\n",
    "    raise ValueError(f\"Requested {sample_count} samples but only found {total_images} eligible images.\")"
   ]
  },
  {
   "cell_type": "code",
   "execution_count": 3,
   "id": "d0dafa18",
   "metadata": {},
   "outputs": [
    {
     "name": "stderr",
     "output_type": "stream",
     "text": [
      "/home/kazanplova/anaconda3/envs/wan2_1/lib/python3.12/site-packages/tqdm/auto.py:21: TqdmWarning: IProgress not found. Please update jupyter and ipywidgets. See https://ipywidgets.readthedocs.io/en/stable/user_install.html\n",
      "  from .autonotebook import tqdm as notebook_tqdm\n"
     ]
    },
    {
     "name": "stdout",
     "output_type": "stream",
     "text": [
      "Sampled 10000 images.\n"
     ]
    },
    {
     "name": "stderr",
     "output_type": "stream",
     "text": [
      "100%|██████████| 10000/10000 [00:25<00:00, 390.21it/s]"
     ]
    },
    {
     "name": "stdout",
     "output_type": "stream",
     "text": [
      "Finished copying sampled files.\n"
     ]
    },
    {
     "name": "stderr",
     "output_type": "stream",
     "text": [
      "\n"
     ]
    }
   ],
   "source": [
    "from tqdm.auto import tqdm\n",
    "# Sample unique image paths using a reproducible RNG\n",
    "rng = random.Random(random_seed)\n",
    "sampled_paths = rng.sample(all_images, sample_count)\n",
    "print(f\"Sampled {len(sampled_paths)} images.\")\n",
    "\n",
    "# Copy each sampled image while recreating its relative directory tree\n",
    "for src_path in tqdm(sampled_paths):\n",
    "    relative_path = src_path.relative_to(dataset_root)\n",
    "    dest_path = test_root / relative_path\n",
    "    dest_path.parent.mkdir(parents=True, exist_ok=True)\n",
    "    shutil.copy2(src_path, dest_path)\n",
    "\n",
    "print(\"Finished copying sampled files.\")"
   ]
  },
  {
   "cell_type": "code",
   "execution_count": 4,
   "id": "fc6f2ad1",
   "metadata": {},
   "outputs": [
    {
     "name": "stdout",
     "output_type": "stream",
     "text": [
      "Images inside test split: 10000\n",
      "Sample preview:\n",
      " - ApromaWp/ApromaWp_13040905.png\n",
      " - ApromaWp/ApromaWp_854586d5.png\n",
      " - ApromaWp/ApromaWp_978606d8.png\n",
      " - ApromaWp/ApromaWp_e36bbc7f.png\n",
      " - ApromaWp/ApromaWp_f167e7ad.png\n"
     ]
    }
   ],
   "source": [
    "# Quick verification of the resulting test split\n",
    "copied_images = [p for p in test_root.rglob('*') if p.suffix.lower() in image_extensions]\n",
    "print(f\"Images inside test split: {len(copied_images)}\")\n",
    "print(\"Sample preview:\")\n",
    "for preview_path in copied_images[:5]:\n",
    "    print(f\" - {preview_path.relative_to(test_root)}\")"
   ]
  },
  {
   "cell_type": "code",
   "execution_count": null,
   "id": "4f08742f",
   "metadata": {},
   "outputs": [],
   "source": []
  }
 ],
 "metadata": {
  "kernelspec": {
   "display_name": "wan2_1",
   "language": "python",
   "name": "python3"
  },
  "language_info": {
   "codemirror_mode": {
    "name": "ipython",
    "version": 3
   },
   "file_extension": ".py",
   "mimetype": "text/x-python",
   "name": "python",
   "nbconvert_exporter": "python",
   "pygments_lexer": "ipython3",
   "version": "3.12.11"
  }
 },
 "nbformat": 4,
 "nbformat_minor": 5
}
